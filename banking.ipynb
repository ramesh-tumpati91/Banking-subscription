{
 "cells": [
  {
   "cell_type": "markdown",
   "metadata": {},
   "source": [
    "# Banking data visualization and classification"
   ]
  },
  {
   "cell_type": "markdown",
   "metadata": {},
   "source": [
    "# Data Set Information:"
   ]
  },
  {
   "cell_type": "markdown",
   "metadata": {},
   "source": [
    "The data is related with direct marketing campaigns of a Portuguese banking institution. The marketing campaigns were based on phone calls. Often, more than one contact to the same client was required, in order to access if the product (bank term deposit) would be ('yes') or not ('no') subscribed.\n",
    "Data set has 41188 samples and 20 attributes"
   ]
  },
  {
   "cell_type": "markdown",
   "metadata": {},
   "source": [
    "# Attribute Information:"
   ]
  },
  {
   "cell_type": "markdown",
   "metadata": {},
   "source": [
    "Input variables:\n",
    "\n",
    "1 - age (numeric)\n",
    "\n",
    "2 - job : type of job (categorical: 'admin.','blue-collar','entrepreneur','housemaid','management','retired','self-employed','services','student','technician','unemployed','unknown')\n",
    "\n",
    "3 - marital : marital status (categorical: 'divorced','married','single','unknown'; note: 'divorced' means divorced or widowed)\n",
    "4 - education (categorical:'basic.4y','basic.6y','basic.9y','high.school','illiterate','professional.course','university.degree','unknown')\n",
    "\n",
    "5 - default: has credit in default? (categorical: 'no','yes','unknown')\n",
    "\n",
    "6 - housing: has housing loan? (categorical: 'no','yes','unknown')\n",
    "\n",
    "7 - loan: has personal loan? (categorical: 'no','yes','unknown')\n",
    "\n",
    "8 - contact: contact communication type (categorical: 'cellular','telephone') \n",
    "\n",
    "9 - month: last contact month of year (categorical: 'jan', 'feb', 'mar', ..., 'nov', 'dec')\n",
    "\n",
    "10 - day_of_week: last contact day of the week (categorical: 'mon','tue','wed','thu','fri')\n",
    "\n",
    "11 - duration: last contact duration, in seconds (numeric). Important note: this attribute highly affects the output target (e.g., if duration=0 then y='no'). Yet, the duration is not known before a call is performed. Also, after the end of the call y is obviously known. Thus, this input should only be included for benchmark purposes and should be discarded if the intention is to have a realistic predictive model.\n",
    "\n",
    "12 - campaign: number of contacts performed during this campaign and for this client (numeric, includes last contact)\n",
    "\n",
    "13 - pdays: number of days that passed by after the client was last contacted from a previous campaign (numeric; 999 means client was not previously contacted)\n",
    "\n",
    "14 - previous: number of contacts performed before this campaign and for this client (numeric)\n",
    "\n",
    "15 - poutcome: outcome of the previous marketing campaign (categorical: 'failure','nonexistent','success')\n",
    "\n",
    "16 - emp.var.rate: employment variation rate - quarterly indicator (numeric)\n",
    "\n",
    "17 - cons.price.idx: consumer price index - monthly indicator (numeric) \n",
    "\n",
    "18 - cons.conf.idx: consumer confidence index - monthly indicator (numeric) \n",
    "\n",
    "19 - euribor3m: euribor 3 month rate - daily indicator (numeric)\n",
    "\n",
    "20 - nr.employed: number of employees - quarterly indicator (numeric)\n",
    "\n",
    "Output variable (desired target):\n",
    "21 - y - has the client subscribed a term deposit? (binary: 'yes','no')"
   ]
  },
  {
   "cell_type": "code",
   "execution_count": 1,
   "metadata": {
    "collapsed": true
   },
   "outputs": [],
   "source": [
    "import numpy as np\n",
    "import pandas as pd\n",
    "import matplotlib.pyplot as plt\n",
    "import seaborn as sns\n",
    "from sklearn import preprocessing\n",
    "%matplotlib inline"
   ]
  },
  {
   "cell_type": "code",
   "execution_count": 2,
   "metadata": {
    "collapsed": true
   },
   "outputs": [],
   "source": [
    "bank_data = pd.read_csv(\"bank-additional-full.csv\",';')"
   ]
  },
  {
   "cell_type": "code",
   "execution_count": 3,
   "metadata": {},
   "outputs": [
    {
     "data": {
      "text/html": [
       "<div>\n",
       "<style>\n",
       "    .dataframe thead tr:only-child th {\n",
       "        text-align: right;\n",
       "    }\n",
       "\n",
       "    .dataframe thead th {\n",
       "        text-align: left;\n",
       "    }\n",
       "\n",
       "    .dataframe tbody tr th {\n",
       "        vertical-align: top;\n",
       "    }\n",
       "</style>\n",
       "<table border=\"1\" class=\"dataframe\">\n",
       "  <thead>\n",
       "    <tr style=\"text-align: right;\">\n",
       "      <th></th>\n",
       "      <th>age</th>\n",
       "      <th>job</th>\n",
       "      <th>marital</th>\n",
       "      <th>education</th>\n",
       "      <th>default</th>\n",
       "      <th>housing</th>\n",
       "      <th>loan</th>\n",
       "      <th>contact</th>\n",
       "      <th>month</th>\n",
       "      <th>day_of_week</th>\n",
       "      <th>...</th>\n",
       "      <th>campaign</th>\n",
       "      <th>pdays</th>\n",
       "      <th>previous</th>\n",
       "      <th>poutcome</th>\n",
       "      <th>emp.var.rate</th>\n",
       "      <th>cons.price.idx</th>\n",
       "      <th>cons.conf.idx</th>\n",
       "      <th>euribor3m</th>\n",
       "      <th>nr.employed</th>\n",
       "      <th>y</th>\n",
       "    </tr>\n",
       "  </thead>\n",
       "  <tbody>\n",
       "    <tr>\n",
       "      <th>0</th>\n",
       "      <td>56</td>\n",
       "      <td>housemaid</td>\n",
       "      <td>married</td>\n",
       "      <td>basic.4y</td>\n",
       "      <td>no</td>\n",
       "      <td>no</td>\n",
       "      <td>no</td>\n",
       "      <td>telephone</td>\n",
       "      <td>may</td>\n",
       "      <td>mon</td>\n",
       "      <td>...</td>\n",
       "      <td>1</td>\n",
       "      <td>999</td>\n",
       "      <td>0</td>\n",
       "      <td>nonexistent</td>\n",
       "      <td>1.1</td>\n",
       "      <td>93.994</td>\n",
       "      <td>-36.4</td>\n",
       "      <td>4.857</td>\n",
       "      <td>5191.0</td>\n",
       "      <td>no</td>\n",
       "    </tr>\n",
       "    <tr>\n",
       "      <th>1</th>\n",
       "      <td>57</td>\n",
       "      <td>services</td>\n",
       "      <td>married</td>\n",
       "      <td>high.school</td>\n",
       "      <td>unknown</td>\n",
       "      <td>no</td>\n",
       "      <td>no</td>\n",
       "      <td>telephone</td>\n",
       "      <td>may</td>\n",
       "      <td>mon</td>\n",
       "      <td>...</td>\n",
       "      <td>1</td>\n",
       "      <td>999</td>\n",
       "      <td>0</td>\n",
       "      <td>nonexistent</td>\n",
       "      <td>1.1</td>\n",
       "      <td>93.994</td>\n",
       "      <td>-36.4</td>\n",
       "      <td>4.857</td>\n",
       "      <td>5191.0</td>\n",
       "      <td>no</td>\n",
       "    </tr>\n",
       "    <tr>\n",
       "      <th>2</th>\n",
       "      <td>37</td>\n",
       "      <td>services</td>\n",
       "      <td>married</td>\n",
       "      <td>high.school</td>\n",
       "      <td>no</td>\n",
       "      <td>yes</td>\n",
       "      <td>no</td>\n",
       "      <td>telephone</td>\n",
       "      <td>may</td>\n",
       "      <td>mon</td>\n",
       "      <td>...</td>\n",
       "      <td>1</td>\n",
       "      <td>999</td>\n",
       "      <td>0</td>\n",
       "      <td>nonexistent</td>\n",
       "      <td>1.1</td>\n",
       "      <td>93.994</td>\n",
       "      <td>-36.4</td>\n",
       "      <td>4.857</td>\n",
       "      <td>5191.0</td>\n",
       "      <td>no</td>\n",
       "    </tr>\n",
       "    <tr>\n",
       "      <th>3</th>\n",
       "      <td>40</td>\n",
       "      <td>admin.</td>\n",
       "      <td>married</td>\n",
       "      <td>basic.6y</td>\n",
       "      <td>no</td>\n",
       "      <td>no</td>\n",
       "      <td>no</td>\n",
       "      <td>telephone</td>\n",
       "      <td>may</td>\n",
       "      <td>mon</td>\n",
       "      <td>...</td>\n",
       "      <td>1</td>\n",
       "      <td>999</td>\n",
       "      <td>0</td>\n",
       "      <td>nonexistent</td>\n",
       "      <td>1.1</td>\n",
       "      <td>93.994</td>\n",
       "      <td>-36.4</td>\n",
       "      <td>4.857</td>\n",
       "      <td>5191.0</td>\n",
       "      <td>no</td>\n",
       "    </tr>\n",
       "    <tr>\n",
       "      <th>4</th>\n",
       "      <td>56</td>\n",
       "      <td>services</td>\n",
       "      <td>married</td>\n",
       "      <td>high.school</td>\n",
       "      <td>no</td>\n",
       "      <td>no</td>\n",
       "      <td>yes</td>\n",
       "      <td>telephone</td>\n",
       "      <td>may</td>\n",
       "      <td>mon</td>\n",
       "      <td>...</td>\n",
       "      <td>1</td>\n",
       "      <td>999</td>\n",
       "      <td>0</td>\n",
       "      <td>nonexistent</td>\n",
       "      <td>1.1</td>\n",
       "      <td>93.994</td>\n",
       "      <td>-36.4</td>\n",
       "      <td>4.857</td>\n",
       "      <td>5191.0</td>\n",
       "      <td>no</td>\n",
       "    </tr>\n",
       "  </tbody>\n",
       "</table>\n",
       "<p>5 rows × 21 columns</p>\n",
       "</div>"
      ],
      "text/plain": [
       "   age        job  marital    education  default housing loan    contact  \\\n",
       "0   56  housemaid  married     basic.4y       no      no   no  telephone   \n",
       "1   57   services  married  high.school  unknown      no   no  telephone   \n",
       "2   37   services  married  high.school       no     yes   no  telephone   \n",
       "3   40     admin.  married     basic.6y       no      no   no  telephone   \n",
       "4   56   services  married  high.school       no      no  yes  telephone   \n",
       "\n",
       "  month day_of_week ...  campaign  pdays  previous     poutcome emp.var.rate  \\\n",
       "0   may         mon ...         1    999         0  nonexistent          1.1   \n",
       "1   may         mon ...         1    999         0  nonexistent          1.1   \n",
       "2   may         mon ...         1    999         0  nonexistent          1.1   \n",
       "3   may         mon ...         1    999         0  nonexistent          1.1   \n",
       "4   may         mon ...         1    999         0  nonexistent          1.1   \n",
       "\n",
       "   cons.price.idx  cons.conf.idx  euribor3m  nr.employed   y  \n",
       "0          93.994          -36.4      4.857       5191.0  no  \n",
       "1          93.994          -36.4      4.857       5191.0  no  \n",
       "2          93.994          -36.4      4.857       5191.0  no  \n",
       "3          93.994          -36.4      4.857       5191.0  no  \n",
       "4          93.994          -36.4      4.857       5191.0  no  \n",
       "\n",
       "[5 rows x 21 columns]"
      ]
     },
     "execution_count": 3,
     "metadata": {},
     "output_type": "execute_result"
    }
   ],
   "source": [
    "bank_data.head()"
   ]
  },
  {
   "cell_type": "code",
   "execution_count": 4,
   "metadata": {},
   "outputs": [
    {
     "name": "stdout",
     "output_type": "stream",
     "text": [
      "<class 'pandas.core.frame.DataFrame'>\n",
      "RangeIndex: 41188 entries, 0 to 41187\n",
      "Data columns (total 21 columns):\n",
      "age               41188 non-null int64\n",
      "job               41188 non-null object\n",
      "marital           41188 non-null object\n",
      "education         41188 non-null object\n",
      "default           41188 non-null object\n",
      "housing           41188 non-null object\n",
      "loan              41188 non-null object\n",
      "contact           41188 non-null object\n",
      "month             41188 non-null object\n",
      "day_of_week       41188 non-null object\n",
      "duration          41188 non-null int64\n",
      "campaign          41188 non-null int64\n",
      "pdays             41188 non-null int64\n",
      "previous          41188 non-null int64\n",
      "poutcome          41188 non-null object\n",
      "emp.var.rate      41188 non-null float64\n",
      "cons.price.idx    41188 non-null float64\n",
      "cons.conf.idx     41188 non-null float64\n",
      "euribor3m         41188 non-null float64\n",
      "nr.employed       41188 non-null float64\n",
      "y                 41188 non-null object\n",
      "dtypes: float64(5), int64(5), object(11)\n",
      "memory usage: 6.6+ MB\n"
     ]
    }
   ],
   "source": [
    "bank_data.info()"
   ]
  },
  {
   "cell_type": "code",
   "execution_count": 5,
   "metadata": {},
   "outputs": [
    {
     "data": {
      "text/plain": [
       "age                 78\n",
       "job                 12\n",
       "marital              4\n",
       "education            8\n",
       "default              3\n",
       "housing              3\n",
       "loan                 3\n",
       "contact              2\n",
       "month               10\n",
       "day_of_week          5\n",
       "duration          1544\n",
       "campaign            42\n",
       "pdays               27\n",
       "previous             8\n",
       "poutcome             3\n",
       "emp.var.rate        10\n",
       "cons.price.idx      26\n",
       "cons.conf.idx       26\n",
       "euribor3m          316\n",
       "nr.employed         11\n",
       "y                    2\n",
       "dtype: int64"
      ]
     },
     "execution_count": 5,
     "metadata": {},
     "output_type": "execute_result"
    }
   ],
   "source": [
    "bank_data.nunique()"
   ]
  },
  {
   "cell_type": "code",
   "execution_count": 6,
   "metadata": {},
   "outputs": [
    {
     "data": {
      "text/plain": [
       "(4, 21)"
      ]
     },
     "execution_count": 6,
     "metadata": {},
     "output_type": "execute_result"
    }
   ],
   "source": [
    "bank_data[bank_data['duration']==0].shape"
   ]
  },
  {
   "cell_type": "markdown",
   "metadata": {},
   "source": [
    "# Removal of unreliable data\n",
    "\n",
    "If duration is zero the system automatically recognizes the column as 'no' the info is unpedictable as mentioned blow, thus the rows are discarded as suggested in data set.\n",
    "\n",
    "\"Important note: this attribute highly affects the output target (e.g., if duration=0 then y='no').\n",
    "Yet, the duration is not known before a call is performed. Also, after the end of the call y is obviously known.\n",
    "Thus, this input should only be included for benchmark purposes and should be discarded if the intention is to have a\n",
    "realistic predictive model.\""
   ]
  },
  {
   "cell_type": "code",
   "execution_count": 7,
   "metadata": {},
   "outputs": [
    {
     "data": {
      "text/plain": [
       "(41184, 21)"
      ]
     },
     "execution_count": 7,
     "metadata": {},
     "output_type": "execute_result"
    }
   ],
   "source": [
    "bank_data=bank_data[bank_data['duration']!=0]\n",
    "bank_data.shape"
   ]
  },
  {
   "cell_type": "code",
   "execution_count": 8,
   "metadata": {},
   "outputs": [
    {
     "data": {
      "text/plain": [
       "<matplotlib.axes._subplots.AxesSubplot at 0x11125ba8>"
      ]
     },
     "execution_count": 8,
     "metadata": {},
     "output_type": "execute_result"
    },
    {
     "data": {
      "image/png": "[encoded data removed]",
      "text/plain": [
       "<matplotlib.figure.Figure at 0x4e42160>"
      ]
     },
     "metadata": {},
     "output_type": "display_data"
    }
   ],
   "source": [
    "sns.countplot(x='y',data=bank_data,palette='RdBu_r')"
   ]
  },
  {
   "cell_type": "markdown",
   "metadata": {},
   "source": [
    "It clearly shows that data set is unbalance data set"
   ]
  },
  {
   "cell_type": "code",
   "execution_count": 9,
   "metadata": {},
   "outputs": [
    {
     "data": {
      "image/png": "[encoded data removed]",
      "text/plain": [
       "<matplotlib.figure.Figure at 0x12ba9160>"
      ]
     },
     "metadata": {},
     "output_type": "display_data"
    }
   ],
   "source": [
    "category_cols=['marital', 'education', 'default', 'housing', 'loan', 'contact', 'day_of_week', 'previous', 'poutcome']\n",
    "fig, axes = plt.subplots(3, 3, figsize=(14, 14))\n",
    "\n",
    "iter=0\n",
    "for x_iter in [0,1,2]:\n",
    "    for y_iter in [0,1,2]:\n",
    "        sns.countplot( x= \"y\", data=bank_data,  hue=category_cols[iter], orient='v' , ax=axes[x_iter,y_iter])\n",
    "        iter=iter+1\n",
    "\n",
    "fig.tight_layout()"
   ]
  },
  {
   "cell_type": "markdown",
   "metadata": {},
   "source": [
    "# Age distribution"
   ]
  },
  {
   "cell_type": "code",
   "execution_count": 10,
   "metadata": {},
   "outputs": [
    {
     "name": "stderr",
     "output_type": "stream",
     "text": [
      "C:\\Users\\Ramesh\\Anaconda3_1\\lib\\site-packages\\scipy\\stats\\stats.py:1633: FutureWarning: Using a non-tuple sequence for multidimensional indexing is deprecated; use `arr[tuple(seq)]` instead of `arr[seq]`. In the future this will be interpreted as an array index, `arr[np.array(seq)]`, which will result either in an error or a different result.\n",
      "  return np.add.reduce(sorted[indexer] * weights, axis=axis) / sumval\n"
     ]
    },
    {
     "data": {
      "text/plain": [
       "<matplotlib.legend.Legend at 0x4e420f0>"
      ]
     },
     "execution_count": 10,
     "metadata": {},
     "output_type": "execute_result"
    },
    {
     "data": {
      "image/png": "[encoded data removed]",
      "text/plain": [
       "<matplotlib.figure.Figure at 0x1352cd68>"
      ]
     },
     "metadata": {},
     "output_type": "display_data"
    }
   ],
   "source": [
    "sns.distplot(bank_data[bank_data['y']=='no']['age'],bins=20, color='b', label=\"no\")#rug=True\n",
    "sns.distplot(bank_data[bank_data['y']=='yes']['age'],bins=20, color='r', label=\"yes\")\n",
    "plt.legend()"
   ]
  },
  {
   "cell_type": "code",
   "execution_count": 11,
   "metadata": {},
   "outputs": [
    {
     "data": {
      "text/plain": [
       "<matplotlib.axes._subplots.AxesSubplot at 0x15a3abe0>"
      ]
     },
     "execution_count": 11,
     "metadata": {},
     "output_type": "execute_result"
    },
    {
     "data": {
      "image/png": "[encoded data removed]",
      "text/plain": [
       "<matplotlib.figure.Figure at 0x13691cf8>"
      ]
     },
     "metadata": {},
     "output_type": "display_data"
    }
   ],
   "source": [
    "sns.countplot( x= \"y\", data=bank_data,  hue='job', orient='v')"
   ]
  },
  {
   "cell_type": "code",
   "execution_count": 12,
   "metadata": {},
   "outputs": [
    {
     "data": {
      "image/png": "[encoded data removed]",
      "text/plain": [
       "<matplotlib.figure.Figure at 0x1350e668>"
      ]
     },
     "metadata": {},
     "output_type": "display_data"
    }
   ],
   "source": [
    "g=sns.countplot(x= \"y\", data=bank_data,  hue='default', orient='v')\n",
    "g.set_yscale('log')"
   ]
  },
  {
   "cell_type": "code",
   "execution_count": 13,
   "metadata": {},
   "outputs": [
    {
     "data": {
      "text/plain": [
       "<matplotlib.legend.Legend at 0x164a4e10>"
      ]
     },
     "execution_count": 13,
     "metadata": {},
     "output_type": "execute_result"
    },
    {
     "data": {
      "image/png": "[encoded data removed]",
      "text/plain": [
       "<matplotlib.figure.Figure at 0x164c1470>"
      ]
     },
     "metadata": {},
     "output_type": "display_data"
    }
   ],
   "source": [
    "fig1, axes = plt.subplots(1,2, figsize=(15,6))\n",
    "\n",
    "sns.distplot(bank_data[bank_data['y']=='no']['campaign'],bins=15, color='b', label=\"no\",kde=False, ax=axes[0])#rug=True\n",
    "sns.distplot(bank_data[bank_data['y']=='yes']['campaign'],bins=15, color='r', label=\"yes\",kde=False, ax=axes[1])\n",
    "axes[0].set(yscale=\"log\"), axes[1].set(yscale=\"log\")\n",
    "plt.legend()"
   ]
  },
  {
   "cell_type": "markdown",
   "metadata": {},
   "source": [
    "# Binning pdays"
   ]
  },
  {
   "cell_type": "code",
   "execution_count": 14,
   "metadata": {
    "collapsed": true
   },
   "outputs": [],
   "source": [
    "bins = [0, 6, 11, 16, 21, 26, 31, 1000]\n",
    "names = ['0-5', '6-10','11-15','16-20', '21-25', '26-30', '999']\n",
    "\n",
    "bank_data['pdays'] = pd.cut(bank_data['pdays'], bins, labels=names)"
   ]
  },
  {
   "cell_type": "code",
   "execution_count": 15,
   "metadata": {},
   "outputs": [
    {
     "data": {
      "text/plain": [
       "999      39669\n",
       "0-5       1102\n",
       "6-10       222\n",
       "11-15      149\n",
       "16-20       21\n",
       "21-25        5\n",
       "26-30        1\n",
       "Name: pdays, dtype: int64"
      ]
     },
     "execution_count": 15,
     "metadata": {},
     "output_type": "execute_result"
    }
   ],
   "source": [
    "bank_data['pdays'].value_counts()"
   ]
  },
  {
   "cell_type": "code",
   "execution_count": 16,
   "metadata": {
    "collapsed": true
   },
   "outputs": [],
   "source": [
    "bank_data['pdays'] = bank_data['pdays'].cat.codes"
   ]
  },
  {
   "cell_type": "code",
   "execution_count": 17,
   "metadata": {},
   "outputs": [
    {
     "data": {
      "image/png": "[encoded data removed]",
      "text/plain": [
       "<matplotlib.figure.Figure at 0x16b4f048>"
      ]
     },
     "metadata": {},
     "output_type": "display_data"
    }
   ],
   "source": [
    "l= sns.countplot(x= \"previous\", data=bank_data,  hue='y', orient='v')\n",
    "l.set_yscale('log')"
   ]
  },
  {
   "cell_type": "code",
   "execution_count": 18,
   "metadata": {},
   "outputs": [
    {
     "data": {
      "text/plain": [
       "<matplotlib.text.Text at 0x16961128>"
      ]
     },
     "execution_count": 18,
     "metadata": {},
     "output_type": "execute_result"
    },
    {
     "data": {
      "image/png": "[encoded data removed]",
      "text/plain": [
       "<matplotlib.figure.Figure at 0x16b349b0>"
      ]
     },
     "metadata": {},
     "output_type": "display_data"
    }
   ],
   "source": [
    "colors = [ 'lightskyblue','green', 'lightcoral']\n",
    "labels =bank_data[bank_data['y']=='no']['poutcome'].value_counts().axes[0]\n",
    "#labels =[\"failure\",\"success\", \"nonexistent\"]\n",
    "fig, axis = plt.subplots(1,2, figsize=(15,6))\n",
    "axis[0].pie(bank_data[bank_data['y']=='no']['poutcome'].value_counts(),autopct='%1.2f%%',colors=colors,labels=labels,startangle=70,shadow=True)\n",
    "\n",
    "axis[1].pie(bank_data[bank_data['y']=='yes']['poutcome'].value_counts(),autopct='%1.2f%%',colors=colors,labels=labels,startangle=70,shadow=True)\n",
    "axis[0].set_title('no', fontsize=20)\n",
    "axis[1].set_title('yes', fontsize=20)"
   ]
  },
  {
   "cell_type": "code",
   "execution_count": 19,
   "metadata": {},
   "outputs": [
    {
     "data": {
      "text/html": [
       "<div>\n",
       "<style>\n",
       "    .dataframe thead tr:only-child th {\n",
       "        text-align: right;\n",
       "    }\n",
       "\n",
       "    .dataframe thead th {\n",
       "        text-align: left;\n",
       "    }\n",
       "\n",
       "    .dataframe tbody tr th {\n",
       "        vertical-align: top;\n",
       "    }\n",
       "</style>\n",
       "<table border=\"1\" class=\"dataframe\">\n",
       "  <thead>\n",
       "    <tr style=\"text-align: right;\">\n",
       "      <th></th>\n",
       "      <th>age</th>\n",
       "      <th>job</th>\n",
       "      <th>marital</th>\n",
       "      <th>education</th>\n",
       "      <th>default</th>\n",
       "      <th>housing</th>\n",
       "      <th>loan</th>\n",
       "      <th>contact</th>\n",
       "      <th>month</th>\n",
       "      <th>day_of_week</th>\n",
       "      <th>...</th>\n",
       "      <th>campaign</th>\n",
       "      <th>pdays</th>\n",
       "      <th>previous</th>\n",
       "      <th>poutcome</th>\n",
       "      <th>emp.var.rate</th>\n",
       "      <th>cons.price.idx</th>\n",
       "      <th>cons.conf.idx</th>\n",
       "      <th>euribor3m</th>\n",
       "      <th>nr.employed</th>\n",
       "      <th>y</th>\n",
       "    </tr>\n",
       "  </thead>\n",
       "  <tbody>\n",
       "    <tr>\n",
       "      <th>0</th>\n",
       "      <td>56</td>\n",
       "      <td>housemaid</td>\n",
       "      <td>married</td>\n",
       "      <td>basic.4y</td>\n",
       "      <td>no</td>\n",
       "      <td>no</td>\n",
       "      <td>no</td>\n",
       "      <td>telephone</td>\n",
       "      <td>may</td>\n",
       "      <td>mon</td>\n",
       "      <td>...</td>\n",
       "      <td>1</td>\n",
       "      <td>6</td>\n",
       "      <td>0</td>\n",
       "      <td>nonexistent</td>\n",
       "      <td>1.1</td>\n",
       "      <td>93.994</td>\n",
       "      <td>-36.4</td>\n",
       "      <td>4.857</td>\n",
       "      <td>5191.0</td>\n",
       "      <td>no</td>\n",
       "    </tr>\n",
       "    <tr>\n",
       "      <th>1</th>\n",
       "      <td>57</td>\n",
       "      <td>services</td>\n",
       "      <td>married</td>\n",
       "      <td>high.school</td>\n",
       "      <td>unknown</td>\n",
       "      <td>no</td>\n",
       "      <td>no</td>\n",
       "      <td>telephone</td>\n",
       "      <td>may</td>\n",
       "      <td>mon</td>\n",
       "      <td>...</td>\n",
       "      <td>1</td>\n",
       "      <td>6</td>\n",
       "      <td>0</td>\n",
       "      <td>nonexistent</td>\n",
       "      <td>1.1</td>\n",
       "      <td>93.994</td>\n",
       "      <td>-36.4</td>\n",
       "      <td>4.857</td>\n",
       "      <td>5191.0</td>\n",
       "      <td>no</td>\n",
       "    </tr>\n",
       "    <tr>\n",
       "      <th>2</th>\n",
       "      <td>37</td>\n",
       "      <td>services</td>\n",
       "      <td>married</td>\n",
       "      <td>high.school</td>\n",
       "      <td>no</td>\n",
       "      <td>yes</td>\n",
       "      <td>no</td>\n",
       "      <td>telephone</td>\n",
       "      <td>may</td>\n",
       "      <td>mon</td>\n",
       "      <td>...</td>\n",
       "      <td>1</td>\n",
       "      <td>6</td>\n",
       "      <td>0</td>\n",
       "      <td>nonexistent</td>\n",
       "      <td>1.1</td>\n",
       "      <td>93.994</td>\n",
       "      <td>-36.4</td>\n",
       "      <td>4.857</td>\n",
       "      <td>5191.0</td>\n",
       "      <td>no</td>\n",
       "    </tr>\n",
       "    <tr>\n",
       "      <th>3</th>\n",
       "      <td>40</td>\n",
       "      <td>admin.</td>\n",
       "      <td>married</td>\n",
       "      <td>basic.6y</td>\n",
       "      <td>no</td>\n",
       "      <td>no</td>\n",
       "      <td>no</td>\n",
       "      <td>telephone</td>\n",
       "      <td>may</td>\n",
       "      <td>mon</td>\n",
       "      <td>...</td>\n",
       "      <td>1</td>\n",
       "      <td>6</td>\n",
       "      <td>0</td>\n",
       "      <td>nonexistent</td>\n",
       "      <td>1.1</td>\n",
       "      <td>93.994</td>\n",
       "      <td>-36.4</td>\n",
       "      <td>4.857</td>\n",
       "      <td>5191.0</td>\n",
       "      <td>no</td>\n",
       "    </tr>\n",
       "    <tr>\n",
       "      <th>4</th>\n",
       "      <td>56</td>\n",
       "      <td>services</td>\n",
       "      <td>married</td>\n",
       "      <td>high.school</td>\n",
       "      <td>no</td>\n",
       "      <td>no</td>\n",
       "      <td>yes</td>\n",
       "      <td>telephone</td>\n",
       "      <td>may</td>\n",
       "      <td>mon</td>\n",
       "      <td>...</td>\n",
       "      <td>1</td>\n",
       "      <td>6</td>\n",
       "      <td>0</td>\n",
       "      <td>nonexistent</td>\n",
       "      <td>1.1</td>\n",
       "      <td>93.994</td>\n",
       "      <td>-36.4</td>\n",
       "      <td>4.857</td>\n",
       "      <td>5191.0</td>\n",
       "      <td>no</td>\n",
       "    </tr>\n",
       "    <tr>\n",
       "      <th>5</th>\n",
       "      <td>45</td>\n",
       "      <td>services</td>\n",
       "      <td>married</td>\n",
       "      <td>basic.9y</td>\n",
       "      <td>unknown</td>\n",
       "      <td>no</td>\n",
       "      <td>no</td>\n",
       "      <td>telephone</td>\n",
       "      <td>may</td>\n",
       "      <td>mon</td>\n",
       "      <td>...</td>\n",
       "      <td>1</td>\n",
       "      <td>6</td>\n",
       "      <td>0</td>\n",
       "      <td>nonexistent</td>\n",
       "      <td>1.1</td>\n",
       "      <td>93.994</td>\n",
       "      <td>-36.4</td>\n",
       "      <td>4.857</td>\n",
       "      <td>5191.0</td>\n",
       "      <td>no</td>\n",
       "    </tr>\n",
       "    <tr>\n",
       "      <th>6</th>\n",
       "      <td>59</td>\n",
       "      <td>admin.</td>\n",
       "      <td>married</td>\n",
       "      <td>professional.course</td>\n",
       "      <td>no</td>\n",
       "      <td>no</td>\n",
       "      <td>no</td>\n",
       "      <td>telephone</td>\n",
       "      <td>may</td>\n",
       "      <td>mon</td>\n",
       "      <td>...</td>\n",
       "      <td>1</td>\n",
       "      <td>6</td>\n",
       "      <td>0</td>\n",
       "      <td>nonexistent</td>\n",
       "      <td>1.1</td>\n",
       "      <td>93.994</td>\n",
       "      <td>-36.4</td>\n",
       "      <td>4.857</td>\n",
       "      <td>5191.0</td>\n",
       "      <td>no</td>\n",
       "    </tr>\n",
       "    <tr>\n",
       "      <th>7</th>\n",
       "      <td>41</td>\n",
       "      <td>blue-collar</td>\n",
       "      <td>married</td>\n",
       "      <td>unknown</td>\n",
       "      <td>unknown</td>\n",
       "      <td>no</td>\n",
       "      <td>no</td>\n",
       "      <td>telephone</td>\n",
       "      <td>may</td>\n",
       "      <td>mon</td>\n",
       "      <td>...</td>\n",
       "      <td>1</td>\n",
       "      <td>6</td>\n",
       "      <td>0</td>\n",
       "      <td>nonexistent</td>\n",
       "      <td>1.1</td>\n",
       "      <td>93.994</td>\n",
       "      <td>-36.4</td>\n",
       "      <td>4.857</td>\n",
       "      <td>5191.0</td>\n",
       "      <td>no</td>\n",
       "    </tr>\n",
       "    <tr>\n",
       "      <th>8</th>\n",
       "      <td>24</td>\n",
       "      <td>technician</td>\n",
       "      <td>single</td>\n",
       "      <td>professional.course</td>\n",
       "      <td>no</td>\n",
       "      <td>yes</td>\n",
       "      <td>no</td>\n",
       "      <td>telephone</td>\n",
       "      <td>may</td>\n",
       "      <td>mon</td>\n",
       "      <td>...</td>\n",
       "      <td>1</td>\n",
       "      <td>6</td>\n",
       "      <td>0</td>\n",
       "      <td>nonexistent</td>\n",
       "      <td>1.1</td>\n",
       "      <td>93.994</td>\n",
       "      <td>-36.4</td>\n",
       "      <td>4.857</td>\n",
       "      <td>5191.0</td>\n",
       "      <td>no</td>\n",
       "    </tr>\n",
       "    <tr>\n",
       "      <th>9</th>\n",
       "      <td>25</td>\n",
       "      <td>services</td>\n",
       "      <td>single</td>\n",
       "      <td>high.school</td>\n",
       "      <td>no</td>\n",
       "      <td>yes</td>\n",
       "      <td>no</td>\n",
       "      <td>telephone</td>\n",
       "      <td>may</td>\n",
       "      <td>mon</td>\n",
       "      <td>...</td>\n",
       "      <td>1</td>\n",
       "      <td>6</td>\n",
       "      <td>0</td>\n",
       "      <td>nonexistent</td>\n",
       "      <td>1.1</td>\n",
       "      <td>93.994</td>\n",
       "      <td>-36.4</td>\n",
       "      <td>4.857</td>\n",
       "      <td>5191.0</td>\n",
       "      <td>no</td>\n",
       "    </tr>\n",
       "  </tbody>\n",
       "</table>\n",
       "<p>10 rows × 21 columns</p>\n",
       "</div>"
      ],
      "text/plain": [
       "   age          job  marital            education  default housing loan  \\\n",
       "0   56    housemaid  married             basic.4y       no      no   no   \n",
       "1   57     services  married          high.school  unknown      no   no   \n",
       "2   37     services  married          high.school       no     yes   no   \n",
       "3   40       admin.  married             basic.6y       no      no   no   \n",
       "4   56     services  married          high.school       no      no  yes   \n",
       "5   45     services  married             basic.9y  unknown      no   no   \n",
       "6   59       admin.  married  professional.course       no      no   no   \n",
       "7   41  blue-collar  married              unknown  unknown      no   no   \n",
       "8   24   technician   single  professional.course       no     yes   no   \n",
       "9   25     services   single          high.school       no     yes   no   \n",
       "\n",
       "     contact month day_of_week ...  campaign  pdays  previous     poutcome  \\\n",
       "0  telephone   may         mon ...         1      6         0  nonexistent   \n",
       "1  telephone   may         mon ...         1      6         0  nonexistent   \n",
       "2  telephone   may         mon ...         1      6         0  nonexistent   \n",
       "3  telephone   may         mon ...         1      6         0  nonexistent   \n",
       "4  telephone   may         mon ...         1      6         0  nonexistent   \n",
       "5  telephone   may         mon ...         1      6         0  nonexistent   \n",
       "6  telephone   may         mon ...         1      6         0  nonexistent   \n",
       "7  telephone   may         mon ...         1      6         0  nonexistent   \n",
       "8  telephone   may         mon ...         1      6         0  nonexistent   \n",
       "9  telephone   may         mon ...         1      6         0  nonexistent   \n",
       "\n",
       "  emp.var.rate  cons.price.idx  cons.conf.idx  euribor3m  nr.employed   y  \n",
       "0          1.1          93.994          -36.4      4.857       5191.0  no  \n",
       "1          1.1          93.994          -36.4      4.857       5191.0  no  \n",
       "2          1.1          93.994          -36.4      4.857       5191.0  no  \n",
       "3          1.1          93.994          -36.4      4.857       5191.0  no  \n",
       "4          1.1          93.994          -36.4      4.857       5191.0  no  \n",
       "5          1.1          93.994          -36.4      4.857       5191.0  no  \n",
       "6          1.1          93.994          -36.4      4.857       5191.0  no  \n",
       "7          1.1          93.994          -36.4      4.857       5191.0  no  \n",
       "8          1.1          93.994          -36.4      4.857       5191.0  no  \n",
       "9          1.1          93.994          -36.4      4.857       5191.0  no  \n",
       "\n",
       "[10 rows x 21 columns]"
      ]
     },
     "execution_count": 19,
     "metadata": {},
     "output_type": "execute_result"
    }
   ],
   "source": [
    "bank_data.head(10)"
   ]
  },
  {
   "cell_type": "code",
   "execution_count": 20,
   "metadata": {
    "collapsed": true
   },
   "outputs": [],
   "source": [
    "conti_col=['emp.var.rate','cons.price.idx','cons.conf.idx','euribor3m','nr.employed']"
   ]
  },
  {
   "cell_type": "code",
   "execution_count": 21,
   "metadata": {},
   "outputs": [
    {
     "data": {
      "text/plain": [
       "<matplotlib.axes._subplots.AxesSubplot at 0x181b1f98>"
      ]
     },
     "execution_count": 21,
     "metadata": {},
     "output_type": "execute_result"
    },
    {
     "data": {
      "image/png": "[encoded data removed]",
      "text/plain": [
       "<matplotlib.figure.Figure at 0x16dd07f0>"
      ]
     },
     "metadata": {},
     "output_type": "display_data"
    }
   ],
   "source": [
    "fig, axes = plt.subplots(2,2, figsize=(14,7))\n",
    "sns.boxplot(y='emp.var.rate', x='y', data=bank_data, ax=axes[0,0])\n",
    "sns.boxplot(y='cons.price.idx', x='y', data=bank_data, ax=axes[0,1])\n",
    "sns.boxplot(y='cons.conf.idx', x='y', data=bank_data, ax=axes[1,0])\n",
    "sns.boxplot(y='euribor3m', x='y', data=bank_data, ax=axes[1,1])"
   ]
  },
  {
   "cell_type": "code",
   "execution_count": 22,
   "metadata": {},
   "outputs": [
    {
     "name": "stderr",
     "output_type": "stream",
     "text": [
      "C:\\Users\\Ramesh\\Anaconda3_1\\lib\\site-packages\\scipy\\stats\\stats.py:1633: FutureWarning: Using a non-tuple sequence for multidimensional indexing is deprecated; use `arr[tuple(seq)]` instead of `arr[seq]`. In the future this will be interpreted as an array index, `arr[np.array(seq)]`, which will result either in an error or a different result.\n",
      "  return np.add.reduce(sorted[indexer] * weights, axis=axis) / sumval\n"
     ]
    },
    {
     "data": {
      "text/plain": [
       "<matplotlib.legend.Legend at 0x1675e908>"
      ]
     },
     "execution_count": 22,
     "metadata": {},
     "output_type": "execute_result"
    },
    {
     "data": {
      "image/png": "[encoded data removed]",
      "text/plain": [
       "<matplotlib.figure.Figure at 0x16e0c400>"
      ]
     },
     "metadata": {},
     "output_type": "display_data"
    }
   ],
   "source": [
    "fig, axes = plt.subplots(2, 2, figsize=(14, 7))\n",
    "\n",
    "iter=0\n",
    "for x_iter in [0,1]:\n",
    "    for y_iter in [0,1]:\n",
    "        sns.distplot(bank_data[bank_data['y']=='no']['emp.var.rate'],bins=10, color='b', label=\"no\", ax=axes[x_iter,y_iter])#rug=True\n",
    "        sns.distplot(bank_data[bank_data['y']=='yes']['emp.var.rate'],bins=10, color='r', label=\"yes\", ax=axes[x_iter,y_iter])\n",
    "        iter=iter+1\n",
    "\n",
    "plt.legend()"
   ]
  },
  {
   "cell_type": "code",
   "execution_count": 23,
   "metadata": {},
   "outputs": [
    {
     "data": {
      "text/plain": [
       "<matplotlib.axes._subplots.AxesSubplot at 0x169d29b0>"
      ]
     },
     "execution_count": 23,
     "metadata": {},
     "output_type": "execute_result"
    },
    {
     "data": {
      "image/png": "[encoded data removed]",
      "text/plain": [
       "<matplotlib.figure.Figure at 0x16b54518>"
      ]
     },
     "metadata": {},
     "output_type": "display_data"
    }
   ],
   "source": [
    "axes = plt.subplots(figsize=(14,7))\n",
    "sns.boxplot(y='cons.price.idx', x='y', data=bank_data)"
   ]
  },
  {
   "cell_type": "code",
   "execution_count": 24,
   "metadata": {},
   "outputs": [
    {
     "name": "stderr",
     "output_type": "stream",
     "text": [
      "C:\\Users\\Ramesh\\Anaconda3_1\\lib\\site-packages\\scipy\\stats\\stats.py:1633: FutureWarning: Using a non-tuple sequence for multidimensional indexing is deprecated; use `arr[tuple(seq)]` instead of `arr[seq]`. In the future this will be interpreted as an array index, `arr[np.array(seq)]`, which will result either in an error or a different result.\n",
      "  return np.add.reduce(sorted[indexer] * weights, axis=axis) / sumval\n"
     ]
    },
    {
     "data": {
      "text/plain": [
       "<matplotlib.legend.Legend at 0x16ca6438>"
      ]
     },
     "execution_count": 24,
     "metadata": {},
     "output_type": "execute_result"
    },
    {
     "data": {
      "image/png": "[encoded data removed]",
      "text/plain": [
       "<matplotlib.figure.Figure at 0x16c589e8>"
      ]
     },
     "metadata": {},
     "output_type": "display_data"
    }
   ],
   "source": [
    "sns.kdeplot(bank_data[bank_data['y']=='no']['cons.price.idx'], kernel='triw', color='b', label=\"no\")\n",
    "plt.legend()"
   ]
  },
  {
   "cell_type": "code",
   "execution_count": 25,
   "metadata": {},
   "outputs": [
    {
     "name": "stderr",
     "output_type": "stream",
     "text": [
      "C:\\Users\\Ramesh\\Anaconda3_1\\lib\\site-packages\\scipy\\stats\\stats.py:1633: FutureWarning: Using a non-tuple sequence for multidimensional indexing is deprecated; use `arr[tuple(seq)]` instead of `arr[seq]`. In the future this will be interpreted as an array index, `arr[np.array(seq)]`, which will result either in an error or a different result.\n",
      "  return np.add.reduce(sorted[indexer] * weights, axis=axis) / sumval\n"
     ]
    },
    {
     "data": {
      "text/plain": [
       "<matplotlib.legend.Legend at 0x135b5c18>"
      ]
     },
     "execution_count": 25,
     "metadata": {},
     "output_type": "execute_result"
    },
    {
     "data": {
      "image/png": "[encoded data removed]",
      "text/plain": [
       "<matplotlib.figure.Figure at 0x16b9f358>"
      ]
     },
     "metadata": {},
     "output_type": "display_data"
    }
   ],
   "source": [
    "sns.distplot(bank_data[bank_data['y']=='no']['cons.price.idx'],bins=10, color='b', label=\"no\")#rug=True\n",
    "sns.distplot(bank_data[bank_data['y']=='yes']['cons.price.idx'],bins=10, color='r', label=\"yes\")\n",
    "plt.legend()"
   ]
  },
  {
   "cell_type": "code",
   "execution_count": 26,
   "metadata": {
    "collapsed": true
   },
   "outputs": [],
   "source": [
    "column_names_to_normalize = conti_col\n",
    "x = bank_data[column_names_to_normalize].values\n",
    "min_max_scaler = preprocessing.MinMaxScaler()\n",
    "x_scaled = min_max_scaler.fit_transform(x)\n",
    "bank_data_temp = pd.DataFrame(x_scaled, columns=column_names_to_normalize, index = bank_data.index)\n",
    "bank_data[column_names_to_normalize] = bank_data_temp"
   ]
  },
  {
   "cell_type": "code",
   "execution_count": 27,
   "metadata": {
    "collapsed": true
   },
   "outputs": [],
   "source": [
    "category_cols1=['job','marital', 'education', 'default', 'housing', 'loan', 'contact','month','day_of_week','previous','pdays', 'poutcome','y']"
   ]
  },
  {
   "cell_type": "code",
   "execution_count": 28,
   "metadata": {
    "collapsed": true
   },
   "outputs": [],
   "source": [
    "le = preprocessing.LabelEncoder()\n",
    "for m in category_cols1:\n",
    "    bank_data[m]=le.fit_transform(bank_data[m])"
   ]
  },
  {
   "cell_type": "code",
   "execution_count": 29,
   "metadata": {},
   "outputs": [
    {
     "data": {
      "text/html": [
       "<div>\n",
       "<style>\n",
       "    .dataframe thead tr:only-child th {\n",
       "        text-align: right;\n",
       "    }\n",
       "\n",
       "    .dataframe thead th {\n",
       "        text-align: left;\n",
       "    }\n",
       "\n",
       "    .dataframe tbody tr th {\n",
       "        vertical-align: top;\n",
       "    }\n",
       "</style>\n",
       "<table border=\"1\" class=\"dataframe\">\n",
       "  <thead>\n",
       "    <tr style=\"text-align: right;\">\n",
       "      <th></th>\n",
       "      <th>age</th>\n",
       "      <th>job</th>\n",
       "      <th>marital</th>\n",
       "      <th>education</th>\n",
       "      <th>default</th>\n",
       "      <th>housing</th>\n",
       "      <th>loan</th>\n",
       "      <th>contact</th>\n",
       "      <th>month</th>\n",
       "      <th>day_of_week</th>\n",
       "      <th>...</th>\n",
       "      <th>campaign</th>\n",
       "      <th>pdays</th>\n",
       "      <th>previous</th>\n",
       "      <th>poutcome</th>\n",
       "      <th>emp.var.rate</th>\n",
       "      <th>cons.price.idx</th>\n",
       "      <th>cons.conf.idx</th>\n",
       "      <th>euribor3m</th>\n",
       "      <th>nr.employed</th>\n",
       "      <th>y</th>\n",
       "    </tr>\n",
       "  </thead>\n",
       "  <tbody>\n",
       "    <tr>\n",
       "      <th>0</th>\n",
       "      <td>56</td>\n",
       "      <td>3</td>\n",
       "      <td>1</td>\n",
       "      <td>0</td>\n",
       "      <td>0</td>\n",
       "      <td>0</td>\n",
       "      <td>0</td>\n",
       "      <td>1</td>\n",
       "      <td>6</td>\n",
       "      <td>1</td>\n",
       "      <td>...</td>\n",
       "      <td>1</td>\n",
       "      <td>7</td>\n",
       "      <td>0</td>\n",
       "      <td>1</td>\n",
       "      <td>0.9375</td>\n",
       "      <td>0.698753</td>\n",
       "      <td>0.60251</td>\n",
       "      <td>0.957379</td>\n",
       "      <td>0.859735</td>\n",
       "      <td>0</td>\n",
       "    </tr>\n",
       "    <tr>\n",
       "      <th>1</th>\n",
       "      <td>57</td>\n",
       "      <td>7</td>\n",
       "      <td>1</td>\n",
       "      <td>3</td>\n",
       "      <td>1</td>\n",
       "      <td>0</td>\n",
       "      <td>0</td>\n",
       "      <td>1</td>\n",
       "      <td>6</td>\n",
       "      <td>1</td>\n",
       "      <td>...</td>\n",
       "      <td>1</td>\n",
       "      <td>7</td>\n",
       "      <td>0</td>\n",
       "      <td>1</td>\n",
       "      <td>0.9375</td>\n",
       "      <td>0.698753</td>\n",
       "      <td>0.60251</td>\n",
       "      <td>0.957379</td>\n",
       "      <td>0.859735</td>\n",
       "      <td>0</td>\n",
       "    </tr>\n",
       "    <tr>\n",
       "      <th>2</th>\n",
       "      <td>37</td>\n",
       "      <td>7</td>\n",
       "      <td>1</td>\n",
       "      <td>3</td>\n",
       "      <td>0</td>\n",
       "      <td>2</td>\n",
       "      <td>0</td>\n",
       "      <td>1</td>\n",
       "      <td>6</td>\n",
       "      <td>1</td>\n",
       "      <td>...</td>\n",
       "      <td>1</td>\n",
       "      <td>7</td>\n",
       "      <td>0</td>\n",
       "      <td>1</td>\n",
       "      <td>0.9375</td>\n",
       "      <td>0.698753</td>\n",
       "      <td>0.60251</td>\n",
       "      <td>0.957379</td>\n",
       "      <td>0.859735</td>\n",
       "      <td>0</td>\n",
       "    </tr>\n",
       "    <tr>\n",
       "      <th>3</th>\n",
       "      <td>40</td>\n",
       "      <td>0</td>\n",
       "      <td>1</td>\n",
       "      <td>1</td>\n",
       "      <td>0</td>\n",
       "      <td>0</td>\n",
       "      <td>0</td>\n",
       "      <td>1</td>\n",
       "      <td>6</td>\n",
       "      <td>1</td>\n",
       "      <td>...</td>\n",
       "      <td>1</td>\n",
       "      <td>7</td>\n",
       "      <td>0</td>\n",
       "      <td>1</td>\n",
       "      <td>0.9375</td>\n",
       "      <td>0.698753</td>\n",
       "      <td>0.60251</td>\n",
       "      <td>0.957379</td>\n",
       "      <td>0.859735</td>\n",
       "      <td>0</td>\n",
       "    </tr>\n",
       "    <tr>\n",
       "      <th>4</th>\n",
       "      <td>56</td>\n",
       "      <td>7</td>\n",
       "      <td>1</td>\n",
       "      <td>3</td>\n",
       "      <td>0</td>\n",
       "      <td>0</td>\n",
       "      <td>2</td>\n",
       "      <td>1</td>\n",
       "      <td>6</td>\n",
       "      <td>1</td>\n",
       "      <td>...</td>\n",
       "      <td>1</td>\n",
       "      <td>7</td>\n",
       "      <td>0</td>\n",
       "      <td>1</td>\n",
       "      <td>0.9375</td>\n",
       "      <td>0.698753</td>\n",
       "      <td>0.60251</td>\n",
       "      <td>0.957379</td>\n",
       "      <td>0.859735</td>\n",
       "      <td>0</td>\n",
       "    </tr>\n",
       "  </tbody>\n",
       "</table>\n",
       "<p>5 rows × 21 columns</p>\n",
       "</div>"
      ],
      "text/plain": [
       "   age  job  marital  education  default  housing  loan  contact  month  \\\n",
       "0   56    3        1          0        0        0     0        1      6   \n",
       "1   57    7        1          3        1        0     0        1      6   \n",
       "2   37    7        1          3        0        2     0        1      6   \n",
       "3   40    0        1          1        0        0     0        1      6   \n",
       "4   56    7        1          3        0        0     2        1      6   \n",
       "\n",
       "   day_of_week ...  campaign  pdays  previous  poutcome  emp.var.rate  \\\n",
       "0            1 ...         1      7         0         1        0.9375   \n",
       "1            1 ...         1      7         0         1        0.9375   \n",
       "2            1 ...         1      7         0         1        0.9375   \n",
       "3            1 ...         1      7         0         1        0.9375   \n",
       "4            1 ...         1      7         0         1        0.9375   \n",
       "\n",
       "   cons.price.idx  cons.conf.idx  euribor3m  nr.employed  y  \n",
       "0        0.698753        0.60251   0.957379     0.859735  0  \n",
       "1        0.698753        0.60251   0.957379     0.859735  0  \n",
       "2        0.698753        0.60251   0.957379     0.859735  0  \n",
       "3        0.698753        0.60251   0.957379     0.859735  0  \n",
       "4        0.698753        0.60251   0.957379     0.859735  0  \n",
       "\n",
       "[5 rows x 21 columns]"
      ]
     },
     "execution_count": 29,
     "metadata": {},
     "output_type": "execute_result"
    }
   ],
   "source": [
    "bank_data.head()"
   ]
  },
  {
   "cell_type": "code",
   "execution_count": 30,
   "metadata": {},
   "outputs": [
    {
     "data": {
      "text/html": [
       "<div>\n",
       "<style>\n",
       "    .dataframe thead tr:only-child th {\n",
       "        text-align: right;\n",
       "    }\n",
       "\n",
       "    .dataframe thead th {\n",
       "        text-align: left;\n",
       "    }\n",
       "\n",
       "    .dataframe tbody tr th {\n",
       "        vertical-align: top;\n",
       "    }\n",
       "</style>\n",
       "<table border=\"1\" class=\"dataframe\">\n",
       "  <thead>\n",
       "    <tr style=\"text-align: right;\">\n",
       "      <th></th>\n",
       "      <th>age</th>\n",
       "      <th>job</th>\n",
       "      <th>marital</th>\n",
       "      <th>education</th>\n",
       "      <th>default</th>\n",
       "      <th>housing</th>\n",
       "      <th>loan</th>\n",
       "      <th>contact</th>\n",
       "      <th>month</th>\n",
       "      <th>day_of_week</th>\n",
       "      <th>...</th>\n",
       "      <th>campaign</th>\n",
       "      <th>pdays</th>\n",
       "      <th>previous</th>\n",
       "      <th>poutcome</th>\n",
       "      <th>emp.var.rate</th>\n",
       "      <th>cons.price.idx</th>\n",
       "      <th>cons.conf.idx</th>\n",
       "      <th>euribor3m</th>\n",
       "      <th>nr.employed</th>\n",
       "      <th>y</th>\n",
       "    </tr>\n",
       "  </thead>\n",
       "  <tbody>\n",
       "    <tr>\n",
       "      <th>age</th>\n",
       "      <td>1.000000</td>\n",
       "      <td>0.001251</td>\n",
       "      <td>-0.389734</td>\n",
       "      <td>-0.117957</td>\n",
       "      <td>0.165005</td>\n",
       "      <td>-0.001694</td>\n",
       "      <td>-0.007346</td>\n",
       "      <td>0.007065</td>\n",
       "      <td>-0.024746</td>\n",
       "      <td>-0.017575</td>\n",
       "      <td>...</td>\n",
       "      <td>0.004468</td>\n",
       "      <td>-0.037345</td>\n",
       "      <td>0.024384</td>\n",
       "      <td>0.019742</td>\n",
       "      <td>-0.000395</td>\n",
       "      <td>0.000870</td>\n",
       "      <td>0.129366</td>\n",
       "      <td>0.010745</td>\n",
       "      <td>-0.017755</td>\n",
       "      <td>0.030419</td>\n",
       "    </tr>\n",
       "    <tr>\n",
       "      <th>job</th>\n",
       "      <td>0.001251</td>\n",
       "      <td>1.000000</td>\n",
       "      <td>0.027852</td>\n",
       "      <td>0.134096</td>\n",
       "      <td>-0.028309</td>\n",
       "      <td>0.006982</td>\n",
       "      <td>-0.010236</td>\n",
       "      <td>-0.025127</td>\n",
       "      <td>-0.033215</td>\n",
       "      <td>-0.000867</td>\n",
       "      <td>...</td>\n",
       "      <td>-0.006917</td>\n",
       "      <td>-0.028091</td>\n",
       "      <td>0.020945</td>\n",
       "      <td>0.011516</td>\n",
       "      <td>-0.008301</td>\n",
       "      <td>-0.016037</td>\n",
       "      <td>0.052737</td>\n",
       "      <td>-0.007912</td>\n",
       "      <td>-0.019603</td>\n",
       "      <td>0.025102</td>\n",
       "    </tr>\n",
       "    <tr>\n",
       "      <th>marital</th>\n",
       "      <td>-0.389734</td>\n",
       "      <td>0.027852</td>\n",
       "      <td>1.000000</td>\n",
       "      <td>0.109210</td>\n",
       "      <td>-0.079490</td>\n",
       "      <td>0.010517</td>\n",
       "      <td>0.005758</td>\n",
       "      <td>-0.054543</td>\n",
       "      <td>-0.007714</td>\n",
       "      <td>0.002140</td>\n",
       "      <td>...</td>\n",
       "      <td>-0.007214</td>\n",
       "      <td>-0.034458</td>\n",
       "      <td>0.038668</td>\n",
       "      <td>0.001925</td>\n",
       "      <td>-0.084272</td>\n",
       "      <td>-0.057527</td>\n",
       "      <td>-0.033849</td>\n",
       "      <td>-0.092005</td>\n",
       "      <td>-0.086248</td>\n",
       "      <td>0.046181</td>\n",
       "    </tr>\n",
       "    <tr>\n",
       "      <th>education</th>\n",
       "      <td>-0.117957</td>\n",
       "      <td>0.134096</td>\n",
       "      <td>0.109210</td>\n",
       "      <td>1.000000</td>\n",
       "      <td>-0.186872</td>\n",
       "      <td>0.016797</td>\n",
       "      <td>0.006379</td>\n",
       "      <td>-0.105724</td>\n",
       "      <td>-0.082650</td>\n",
       "      <td>-0.018026</td>\n",
       "      <td>...</td>\n",
       "      <td>0.000304</td>\n",
       "      <td>-0.044828</td>\n",
       "      <td>0.038829</td>\n",
       "      <td>0.017012</td>\n",
       "      <td>-0.043831</td>\n",
       "      <td>-0.081630</td>\n",
       "      <td>0.078753</td>\n",
       "      <td>-0.036434</td>\n",
       "      <td>-0.041540</td>\n",
       "      <td>0.057797</td>\n",
       "    </tr>\n",
       "    <tr>\n",
       "      <th>default</th>\n",
       "      <td>0.165005</td>\n",
       "      <td>-0.028309</td>\n",
       "      <td>-0.079490</td>\n",
       "      <td>-0.186872</td>\n",
       "      <td>1.000000</td>\n",
       "      <td>-0.015794</td>\n",
       "      <td>-0.003805</td>\n",
       "      <td>0.135233</td>\n",
       "      <td>-0.015852</td>\n",
       "      <td>-0.008710</td>\n",
       "      <td>...</td>\n",
       "      <td>0.032867</td>\n",
       "      <td>0.076377</td>\n",
       "      <td>-0.102436</td>\n",
       "      <td>0.023427</td>\n",
       "      <td>0.203264</td>\n",
       "      <td>0.168061</td>\n",
       "      <td>0.026514</td>\n",
       "      <td>0.195336</td>\n",
       "      <td>0.189845</td>\n",
       "      <td>-0.099371</td>\n",
       "    </tr>\n",
       "    <tr>\n",
       "      <th>housing</th>\n",
       "      <td>-0.001694</td>\n",
       "      <td>0.006982</td>\n",
       "      <td>0.010517</td>\n",
       "      <td>0.016797</td>\n",
       "      <td>-0.015794</td>\n",
       "      <td>1.000000</td>\n",
       "      <td>0.044317</td>\n",
       "      <td>-0.082208</td>\n",
       "      <td>-0.018067</td>\n",
       "      <td>0.003320</td>\n",
       "      <td>...</td>\n",
       "      <td>-0.011094</td>\n",
       "      <td>-0.010651</td>\n",
       "      <td>0.021330</td>\n",
       "      <td>-0.011791</td>\n",
       "      <td>-0.060240</td>\n",
       "      <td>-0.080533</td>\n",
       "      <td>-0.033891</td>\n",
       "      <td>-0.059324</td>\n",
       "      <td>-0.045895</td>\n",
       "      <td>0.011567</td>\n",
       "    </tr>\n",
       "    <tr>\n",
       "      <th>loan</th>\n",
       "      <td>-0.007346</td>\n",
       "      <td>-0.010236</td>\n",
       "      <td>0.005758</td>\n",
       "      <td>0.006379</td>\n",
       "      <td>-0.003805</td>\n",
       "      <td>0.044317</td>\n",
       "      <td>1.000000</td>\n",
       "      <td>-0.008567</td>\n",
       "      <td>-0.005724</td>\n",
       "      <td>-0.009353</td>\n",
       "      <td>...</td>\n",
       "      <td>0.005201</td>\n",
       "      <td>-0.000417</td>\n",
       "      <td>-0.001343</td>\n",
       "      <td>-0.001503</td>\n",
       "      <td>0.001840</td>\n",
       "      <td>-0.002447</td>\n",
       "      <td>-0.012034</td>\n",
       "      <td>0.000114</td>\n",
       "      <td>0.003896</td>\n",
       "      <td>-0.004924</td>\n",
       "    </tr>\n",
       "    <tr>\n",
       "      <th>contact</th>\n",
       "      <td>0.007065</td>\n",
       "      <td>-0.025127</td>\n",
       "      <td>-0.054543</td>\n",
       "      <td>-0.105724</td>\n",
       "      <td>0.135233</td>\n",
       "      <td>-0.082208</td>\n",
       "      <td>-0.008567</td>\n",
       "      <td>1.000000</td>\n",
       "      <td>0.276528</td>\n",
       "      <td>-0.009626</td>\n",
       "      <td>...</td>\n",
       "      <td>0.077410</td>\n",
       "      <td>0.111907</td>\n",
       "      <td>-0.212866</td>\n",
       "      <td>0.118753</td>\n",
       "      <td>0.393571</td>\n",
       "      <td>0.591453</td>\n",
       "      <td>0.251581</td>\n",
       "      <td>0.399755</td>\n",
       "      <td>0.269146</td>\n",
       "      <td>-0.144788</td>\n",
       "    </tr>\n",
       "    <tr>\n",
       "      <th>month</th>\n",
       "      <td>-0.024746</td>\n",
       "      <td>-0.033215</td>\n",
       "      <td>-0.007714</td>\n",
       "      <td>-0.082650</td>\n",
       "      <td>-0.015852</td>\n",
       "      <td>-0.018067</td>\n",
       "      <td>-0.005724</td>\n",
       "      <td>0.276528</td>\n",
       "      <td>1.000000</td>\n",
       "      <td>0.027641</td>\n",
       "      <td>...</td>\n",
       "      <td>-0.061977</td>\n",
       "      <td>-0.040589</td>\n",
       "      <td>0.103151</td>\n",
       "      <td>-0.065009</td>\n",
       "      <td>-0.178820</td>\n",
       "      <td>-0.004277</td>\n",
       "      <td>0.009628</td>\n",
       "      <td>-0.117297</td>\n",
       "      <td>-0.221451</td>\n",
       "      <td>-0.006080</td>\n",
       "    </tr>\n",
       "    <tr>\n",
       "      <th>day_of_week</th>\n",
       "      <td>-0.017575</td>\n",
       "      <td>-0.000867</td>\n",
       "      <td>0.002140</td>\n",
       "      <td>-0.018026</td>\n",
       "      <td>-0.008710</td>\n",
       "      <td>0.003320</td>\n",
       "      <td>-0.009353</td>\n",
       "      <td>-0.009626</td>\n",
       "      <td>0.027641</td>\n",
       "      <td>1.000000</td>\n",
       "      <td>...</td>\n",
       "      <td>-0.038346</td>\n",
       "      <td>-0.010304</td>\n",
       "      <td>-0.004109</td>\n",
       "      <td>0.018736</td>\n",
       "      <td>0.033159</td>\n",
       "      <td>0.005585</td>\n",
       "      <td>0.041366</td>\n",
       "      <td>0.038955</td>\n",
       "      <td>0.028313</td>\n",
       "      <td>0.015962</td>\n",
       "    </tr>\n",
       "    <tr>\n",
       "      <th>duration</th>\n",
       "      <td>-0.000815</td>\n",
       "      <td>-0.006550</td>\n",
       "      <td>0.010224</td>\n",
       "      <td>-0.015114</td>\n",
       "      <td>-0.011845</td>\n",
       "      <td>-0.007617</td>\n",
       "      <td>-0.000960</td>\n",
       "      <td>-0.026682</td>\n",
       "      <td>0.003650</td>\n",
       "      <td>0.021934</td>\n",
       "      <td>...</td>\n",
       "      <td>-0.071633</td>\n",
       "      <td>-0.040246</td>\n",
       "      <td>0.020608</td>\n",
       "      <td>0.033381</td>\n",
       "      <td>-0.027993</td>\n",
       "      <td>0.005275</td>\n",
       "      <td>-0.008194</td>\n",
       "      <td>-0.032926</td>\n",
       "      <td>-0.044724</td>\n",
       "      <td>0.405261</td>\n",
       "    </tr>\n",
       "    <tr>\n",
       "      <th>campaign</th>\n",
       "      <td>0.004468</td>\n",
       "      <td>-0.006917</td>\n",
       "      <td>-0.007214</td>\n",
       "      <td>0.000304</td>\n",
       "      <td>0.032867</td>\n",
       "      <td>-0.011094</td>\n",
       "      <td>0.005201</td>\n",
       "      <td>0.077410</td>\n",
       "      <td>-0.061977</td>\n",
       "      <td>-0.038346</td>\n",
       "      <td>...</td>\n",
       "      <td>1.000000</td>\n",
       "      <td>0.050007</td>\n",
       "      <td>-0.079122</td>\n",
       "      <td>0.032574</td>\n",
       "      <td>0.150711</td>\n",
       "      <td>0.127855</td>\n",
       "      <td>-0.013809</td>\n",
       "      <td>0.135091</td>\n",
       "      <td>0.144052</td>\n",
       "      <td>-0.066337</td>\n",
       "    </tr>\n",
       "    <tr>\n",
       "      <th>pdays</th>\n",
       "      <td>-0.037345</td>\n",
       "      <td>-0.028091</td>\n",
       "      <td>-0.034458</td>\n",
       "      <td>-0.044828</td>\n",
       "      <td>0.076377</td>\n",
       "      <td>-0.010651</td>\n",
       "      <td>-0.000417</td>\n",
       "      <td>0.111907</td>\n",
       "      <td>-0.040589</td>\n",
       "      <td>-0.010304</td>\n",
       "      <td>...</td>\n",
       "      <td>0.050007</td>\n",
       "      <td>1.000000</td>\n",
       "      <td>-0.554157</td>\n",
       "      <td>-0.477265</td>\n",
       "      <td>0.256974</td>\n",
       "      <td>0.077079</td>\n",
       "      <td>-0.093376</td>\n",
       "      <td>0.279253</td>\n",
       "      <td>0.350774</td>\n",
       "      <td>-0.311224</td>\n",
       "    </tr>\n",
       "    <tr>\n",
       "      <th>previous</th>\n",
       "      <td>0.024384</td>\n",
       "      <td>0.020945</td>\n",
       "      <td>0.038668</td>\n",
       "      <td>0.038829</td>\n",
       "      <td>-0.102436</td>\n",
       "      <td>0.021330</td>\n",
       "      <td>-0.001343</td>\n",
       "      <td>-0.212866</td>\n",
       "      <td>0.103151</td>\n",
       "      <td>-0.004109</td>\n",
       "      <td>...</td>\n",
       "      <td>-0.079122</td>\n",
       "      <td>-0.554157</td>\n",
       "      <td>1.000000</td>\n",
       "      <td>-0.313106</td>\n",
       "      <td>-0.420520</td>\n",
       "      <td>-0.203151</td>\n",
       "      <td>-0.050947</td>\n",
       "      <td>-0.454530</td>\n",
       "      <td>-0.501358</td>\n",
       "      <td>0.230172</td>\n",
       "    </tr>\n",
       "    <tr>\n",
       "      <th>poutcome</th>\n",
       "      <td>0.019742</td>\n",
       "      <td>0.011516</td>\n",
       "      <td>0.001925</td>\n",
       "      <td>0.017012</td>\n",
       "      <td>0.023427</td>\n",
       "      <td>-0.011791</td>\n",
       "      <td>-0.001503</td>\n",
       "      <td>0.118753</td>\n",
       "      <td>-0.065009</td>\n",
       "      <td>0.018736</td>\n",
       "      <td>...</td>\n",
       "      <td>0.032574</td>\n",
       "      <td>-0.477265</td>\n",
       "      <td>-0.313106</td>\n",
       "      <td>1.000000</td>\n",
       "      <td>0.192986</td>\n",
       "      <td>0.211345</td>\n",
       "      <td>0.178304</td>\n",
       "      <td>0.184159</td>\n",
       "      <td>0.119696</td>\n",
       "      <td>0.129797</td>\n",
       "    </tr>\n",
       "    <tr>\n",
       "      <th>emp.var.rate</th>\n",
       "      <td>-0.000395</td>\n",
       "      <td>-0.008301</td>\n",
       "      <td>-0.084272</td>\n",
       "      <td>-0.043831</td>\n",
       "      <td>0.203264</td>\n",
       "      <td>-0.060240</td>\n",
       "      <td>0.001840</td>\n",
       "      <td>0.393571</td>\n",
       "      <td>-0.178820</td>\n",
       "      <td>0.033159</td>\n",
       "      <td>...</td>\n",
       "      <td>0.150711</td>\n",
       "      <td>0.256974</td>\n",
       "      <td>-0.420520</td>\n",
       "      <td>0.192986</td>\n",
       "      <td>1.000000</td>\n",
       "      <td>0.775331</td>\n",
       "      <td>0.195953</td>\n",
       "      <td>0.972242</td>\n",
       "      <td>0.906965</td>\n",
       "      <td>-0.298359</td>\n",
       "    </tr>\n",
       "    <tr>\n",
       "      <th>cons.price.idx</th>\n",
       "      <td>0.000870</td>\n",
       "      <td>-0.016037</td>\n",
       "      <td>-0.057527</td>\n",
       "      <td>-0.081630</td>\n",
       "      <td>0.168061</td>\n",
       "      <td>-0.080533</td>\n",
       "      <td>-0.002447</td>\n",
       "      <td>0.591453</td>\n",
       "      <td>-0.004277</td>\n",
       "      <td>0.005585</td>\n",
       "      <td>...</td>\n",
       "      <td>0.127855</td>\n",
       "      <td>0.077079</td>\n",
       "      <td>-0.203151</td>\n",
       "      <td>0.211345</td>\n",
       "      <td>0.775331</td>\n",
       "      <td>1.000000</td>\n",
       "      <td>0.058916</td>\n",
       "      <td>0.688217</td>\n",
       "      <td>0.522020</td>\n",
       "      <td>-0.136230</td>\n",
       "    </tr>\n",
       "    <tr>\n",
       "      <th>cons.conf.idx</th>\n",
       "      <td>0.129366</td>\n",
       "      <td>0.052737</td>\n",
       "      <td>-0.033849</td>\n",
       "      <td>0.078753</td>\n",
       "      <td>0.026514</td>\n",
       "      <td>-0.033891</td>\n",
       "      <td>-0.012034</td>\n",
       "      <td>0.251581</td>\n",
       "      <td>0.009628</td>\n",
       "      <td>0.041366</td>\n",
       "      <td>...</td>\n",
       "      <td>-0.013809</td>\n",
       "      <td>-0.093376</td>\n",
       "      <td>-0.050947</td>\n",
       "      <td>0.178304</td>\n",
       "      <td>0.195953</td>\n",
       "      <td>0.058916</td>\n",
       "      <td>1.000000</td>\n",
       "      <td>0.277603</td>\n",
       "      <td>0.100436</td>\n",
       "      <td>0.054875</td>\n",
       "    </tr>\n",
       "    <tr>\n",
       "      <th>euribor3m</th>\n",
       "      <td>0.010745</td>\n",
       "      <td>-0.007912</td>\n",
       "      <td>-0.092005</td>\n",
       "      <td>-0.036434</td>\n",
       "      <td>0.195336</td>\n",
       "      <td>-0.059324</td>\n",
       "      <td>0.000114</td>\n",
       "      <td>0.399755</td>\n",
       "      <td>-0.117297</td>\n",
       "      <td>0.038955</td>\n",
       "      <td>...</td>\n",
       "      <td>0.135091</td>\n",
       "      <td>0.279253</td>\n",
       "      <td>-0.454530</td>\n",
       "      <td>0.184159</td>\n",
       "      <td>0.972242</td>\n",
       "      <td>0.688217</td>\n",
       "      <td>0.277603</td>\n",
       "      <td>1.000000</td>\n",
       "      <td>0.945155</td>\n",
       "      <td>-0.307799</td>\n",
       "    </tr>\n",
       "    <tr>\n",
       "      <th>nr.employed</th>\n",
       "      <td>-0.017755</td>\n",
       "      <td>-0.019603</td>\n",
       "      <td>-0.086248</td>\n",
       "      <td>-0.041540</td>\n",
       "      <td>0.189845</td>\n",
       "      <td>-0.045895</td>\n",
       "      <td>0.003896</td>\n",
       "      <td>0.269146</td>\n",
       "      <td>-0.221451</td>\n",
       "      <td>0.028313</td>\n",
       "      <td>...</td>\n",
       "      <td>0.144052</td>\n",
       "      <td>0.350774</td>\n",
       "      <td>-0.501358</td>\n",
       "      <td>0.119696</td>\n",
       "      <td>0.906965</td>\n",
       "      <td>0.522020</td>\n",
       "      <td>0.100436</td>\n",
       "      <td>0.945155</td>\n",
       "      <td>1.000000</td>\n",
       "      <td>-0.354698</td>\n",
       "    </tr>\n",
       "    <tr>\n",
       "      <th>y</th>\n",
       "      <td>0.030419</td>\n",
       "      <td>0.025102</td>\n",
       "      <td>0.046181</td>\n",
       "      <td>0.057797</td>\n",
       "      <td>-0.099371</td>\n",
       "      <td>0.011567</td>\n",
       "      <td>-0.004924</td>\n",
       "      <td>-0.144788</td>\n",
       "      <td>-0.006080</td>\n",
       "      <td>0.015962</td>\n",
       "      <td>...</td>\n",
       "      <td>-0.066337</td>\n",
       "      <td>-0.311224</td>\n",
       "      <td>0.230172</td>\n",
       "      <td>0.129797</td>\n",
       "      <td>-0.298359</td>\n",
       "      <td>-0.136230</td>\n",
       "      <td>0.054875</td>\n",
       "      <td>-0.307799</td>\n",
       "      <td>-0.354698</td>\n",
       "      <td>1.000000</td>\n",
       "    </tr>\n",
       "  </tbody>\n",
       "</table>\n",
       "<p>21 rows × 21 columns</p>\n",
       "</div>"
      ],
      "text/plain": [
       "                     age       job   marital  education   default   housing  \\\n",
       "age             1.000000  0.001251 -0.389734  -0.117957  0.165005 -0.001694   \n",
       "job             0.001251  1.000000  0.027852   0.134096 -0.028309  0.006982   \n",
       "marital        -0.389734  0.027852  1.000000   0.109210 -0.079490  0.010517   \n",
       "education      -0.117957  0.134096  0.109210   1.000000 -0.186872  0.016797   \n",
       "default         0.165005 -0.028309 -0.079490  -0.186872  1.000000 -0.015794   \n",
       "housing        -0.001694  0.006982  0.010517   0.016797 -0.015794  1.000000   \n",
       "loan           -0.007346 -0.010236  0.005758   0.006379 -0.003805  0.044317   \n",
       "contact         0.007065 -0.025127 -0.054543  -0.105724  0.135233 -0.082208   \n",
       "month          -0.024746 -0.033215 -0.007714  -0.082650 -0.015852 -0.018067   \n",
       "day_of_week    -0.017575 -0.000867  0.002140  -0.018026 -0.008710  0.003320   \n",
       "duration       -0.000815 -0.006550  0.010224  -0.015114 -0.011845 -0.007617   \n",
       "campaign        0.004468 -0.006917 -0.007214   0.000304  0.032867 -0.011094   \n",
       "pdays          -0.037345 -0.028091 -0.034458  -0.044828  0.076377 -0.010651   \n",
       "previous        0.024384  0.020945  0.038668   0.038829 -0.102436  0.021330   \n",
       "poutcome        0.019742  0.011516  0.001925   0.017012  0.023427 -0.011791   \n",
       "emp.var.rate   -0.000395 -0.008301 -0.084272  -0.043831  0.203264 -0.060240   \n",
       "cons.price.idx  0.000870 -0.016037 -0.057527  -0.081630  0.168061 -0.080533   \n",
       "cons.conf.idx   0.129366  0.052737 -0.033849   0.078753  0.026514 -0.033891   \n",
       "euribor3m       0.010745 -0.007912 -0.092005  -0.036434  0.195336 -0.059324   \n",
       "nr.employed    -0.017755 -0.019603 -0.086248  -0.041540  0.189845 -0.045895   \n",
       "y               0.030419  0.025102  0.046181   0.057797 -0.099371  0.011567   \n",
       "\n",
       "                    loan   contact     month  day_of_week    ...     campaign  \\\n",
       "age            -0.007346  0.007065 -0.024746    -0.017575    ...     0.004468   \n",
       "job            -0.010236 -0.025127 -0.033215    -0.000867    ...    -0.006917   \n",
       "marital         0.005758 -0.054543 -0.007714     0.002140    ...    -0.007214   \n",
       "education       0.006379 -0.105724 -0.082650    -0.018026    ...     0.000304   \n",
       "default        -0.003805  0.135233 -0.015852    -0.008710    ...     0.032867   \n",
       "housing         0.044317 -0.082208 -0.018067     0.003320    ...    -0.011094   \n",
       "loan            1.000000 -0.008567 -0.005724    -0.009353    ...     0.005201   \n",
       "contact        -0.008567  1.000000  0.276528    -0.009626    ...     0.077410   \n",
       "month          -0.005724  0.276528  1.000000     0.027641    ...    -0.061977   \n",
       "day_of_week    -0.009353 -0.009626  0.027641     1.000000    ...    -0.038346   \n",
       "duration       -0.000960 -0.026682  0.003650     0.021934    ...    -0.071633   \n",
       "campaign        0.005201  0.077410 -0.061977    -0.038346    ...     1.000000   \n",
       "pdays          -0.000417  0.111907 -0.040589    -0.010304    ...     0.050007   \n",
       "previous       -0.001343 -0.212866  0.103151    -0.004109    ...    -0.079122   \n",
       "poutcome       -0.001503  0.118753 -0.065009     0.018736    ...     0.032574   \n",
       "emp.var.rate    0.001840  0.393571 -0.178820     0.033159    ...     0.150711   \n",
       "cons.price.idx -0.002447  0.591453 -0.004277     0.005585    ...     0.127855   \n",
       "cons.conf.idx  -0.012034  0.251581  0.009628     0.041366    ...    -0.013809   \n",
       "euribor3m       0.000114  0.399755 -0.117297     0.038955    ...     0.135091   \n",
       "nr.employed     0.003896  0.269146 -0.221451     0.028313    ...     0.144052   \n",
       "y              -0.004924 -0.144788 -0.006080     0.015962    ...    -0.066337   \n",
       "\n",
       "                   pdays  previous  poutcome  emp.var.rate  cons.price.idx  \\\n",
       "age            -0.037345  0.024384  0.019742     -0.000395        0.000870   \n",
       "job            -0.028091  0.020945  0.011516     -0.008301       -0.016037   \n",
       "marital        -0.034458  0.038668  0.001925     -0.084272       -0.057527   \n",
       "education      -0.044828  0.038829  0.017012     -0.043831       -0.081630   \n",
       "default         0.076377 -0.102436  0.023427      0.203264        0.168061   \n",
       "housing        -0.010651  0.021330 -0.011791     -0.060240       -0.080533   \n",
       "loan           -0.000417 -0.001343 -0.001503      0.001840       -0.002447   \n",
       "contact         0.111907 -0.212866  0.118753      0.393571        0.591453   \n",
       "month          -0.040589  0.103151 -0.065009     -0.178820       -0.004277   \n",
       "day_of_week    -0.010304 -0.004109  0.018736      0.033159        0.005585   \n",
       "duration       -0.040246  0.020608  0.033381     -0.027993        0.005275   \n",
       "campaign        0.050007 -0.079122  0.032574      0.150711        0.127855   \n",
       "pdays           1.000000 -0.554157 -0.477265      0.256974        0.077079   \n",
       "previous       -0.554157  1.000000 -0.313106     -0.420520       -0.203151   \n",
       "poutcome       -0.477265 -0.313106  1.000000      0.192986        0.211345   \n",
       "emp.var.rate    0.256974 -0.420520  0.192986      1.000000        0.775331   \n",
       "cons.price.idx  0.077079 -0.203151  0.211345      0.775331        1.000000   \n",
       "cons.conf.idx  -0.093376 -0.050947  0.178304      0.195953        0.058916   \n",
       "euribor3m       0.279253 -0.454530  0.184159      0.972242        0.688217   \n",
       "nr.employed     0.350774 -0.501358  0.119696      0.906965        0.522020   \n",
       "y              -0.311224  0.230172  0.129797     -0.298359       -0.136230   \n",
       "\n",
       "                cons.conf.idx  euribor3m  nr.employed         y  \n",
       "age                  0.129366   0.010745    -0.017755  0.030419  \n",
       "job                  0.052737  -0.007912    -0.019603  0.025102  \n",
       "marital             -0.033849  -0.092005    -0.086248  0.046181  \n",
       "education            0.078753  -0.036434    -0.041540  0.057797  \n",
       "default              0.026514   0.195336     0.189845 -0.099371  \n",
       "housing             -0.033891  -0.059324    -0.045895  0.011567  \n",
       "loan                -0.012034   0.000114     0.003896 -0.004924  \n",
       "contact              0.251581   0.399755     0.269146 -0.144788  \n",
       "month                0.009628  -0.117297    -0.221451 -0.006080  \n",
       "day_of_week          0.041366   0.038955     0.028313  0.015962  \n",
       "duration            -0.008194  -0.032926    -0.044724  0.405261  \n",
       "campaign            -0.013809   0.135091     0.144052 -0.066337  \n",
       "pdays               -0.093376   0.279253     0.350774 -0.311224  \n",
       "previous            -0.050947  -0.454530    -0.501358  0.230172  \n",
       "poutcome             0.178304   0.184159     0.119696  0.129797  \n",
       "emp.var.rate         0.195953   0.972242     0.906965 -0.298359  \n",
       "cons.price.idx       0.058916   0.688217     0.522020 -0.136230  \n",
       "cons.conf.idx        1.000000   0.277603     0.100436  0.054875  \n",
       "euribor3m            0.277603   1.000000     0.945155 -0.307799  \n",
       "nr.employed          0.100436   0.945155     1.000000 -0.354698  \n",
       "y                    0.054875  -0.307799    -0.354698  1.000000  \n",
       "\n",
       "[21 rows x 21 columns]"
      ]
     },
     "execution_count": 30,
     "metadata": {},
     "output_type": "execute_result"
    }
   ],
   "source": [
    "bank_data.corr()"
   ]
  },
  {
   "cell_type": "code",
   "execution_count": null,
   "metadata": {
    "collapsed": true
   },
   "outputs": [],
   "source": []
  },
  {
   "cell_type": "markdown",
   "metadata": {},
   "source": [
    "# Predictive model building"
   ]
  },
  {
   "cell_type": "code",
   "execution_count": 33,
   "metadata": {
    "collapsed": true
   },
   "outputs": [],
   "source": [
    "from sklearn.model_selection import train_test_split\n",
    "from sklearn.metrics import classification_report\n",
    "from sklearn.metrics import confusion_matrix\n",
    "from sklearn.metrics import accuracy_score"
   ]
  },
  {
   "cell_type": "code",
   "execution_count": 34,
   "metadata": {
    "collapsed": true
   },
   "outputs": [],
   "source": [
    "X_train, X_test, y_train, y_test = train_test_split(bank_data.drop('y',axis=1), \n",
    "                                                    bank_data['y'], test_size=0.30, \n",
    "                                                    random_state=101)"
   ]
  },
  {
   "cell_type": "markdown",
   "metadata": {},
   "source": [
    "# LogisticRegression classifier"
   ]
  },
  {
   "cell_type": "code",
   "execution_count": 35,
   "metadata": {
    "collapsed": true
   },
   "outputs": [],
   "source": [
    "from sklearn.linear_model import LogisticRegression"
   ]
  },
  {
   "cell_type": "code",
   "execution_count": 36,
   "metadata": {},
   "outputs": [
    {
     "data": {
      "text/plain": [
       "LogisticRegression(C=1.0, class_weight=None, dual=False, fit_intercept=True,\n",
       "          intercept_scaling=1, max_iter=100, multi_class='ovr', n_jobs=1,\n",
       "          penalty='l2', random_state=None, solver='liblinear', tol=0.0001,\n",
       "          verbose=0, warm_start=False)"
      ]
     },
     "execution_count": 36,
     "metadata": {},
     "output_type": "execute_result"
    }
   ],
   "source": [
    "logmodel = LogisticRegression()\n",
    "logmodel.fit(X_train,y_train)"
   ]
  },
  {
   "cell_type": "code",
   "execution_count": 37,
   "metadata": {
    "collapsed": true
   },
   "outputs": [],
   "source": [
    "log_predictions = logmodel.predict(X_test)"
   ]
  },
  {
   "cell_type": "code",
   "execution_count": 38,
   "metadata": {},
   "outputs": [
    {
     "name": "stdout",
     "output_type": "stream",
     "text": [
      "[[10695   300]\n",
      " [  777   584]]\n"
     ]
    }
   ],
   "source": [
    "print(confusion_matrix(y_test,log_predictions))"
   ]
  },
  {
   "cell_type": "code",
   "execution_count": 39,
   "metadata": {},
   "outputs": [
    {
     "name": "stdout",
     "output_type": "stream",
     "text": [
      "0.9128358692133377\n"
     ]
    }
   ],
   "source": [
    "accuracy=accuracy_score(y_test,log_predictions)\n",
    "print(accuracy)"
   ]
  },
  {
   "cell_type": "code",
   "execution_count": 40,
   "metadata": {},
   "outputs": [
    {
     "name": "stdout",
     "output_type": "stream",
     "text": [
      "             precision    recall  f1-score   support\n",
      "\n",
      "          0       0.93      0.97      0.95     10995\n",
      "          1       0.66      0.43      0.52      1361\n",
      "\n",
      "avg / total       0.90      0.91      0.90     12356\n",
      "\n"
     ]
    }
   ],
   "source": [
    "print(classification_report(y_test,log_predictions))"
   ]
  },
  {
   "cell_type": "markdown",
   "metadata": {},
   "source": [
    "# Decision tree"
   ]
  },
  {
   "cell_type": "code",
   "execution_count": 41,
   "metadata": {
    "collapsed": true
   },
   "outputs": [],
   "source": [
    "from sklearn.tree import DecisionTreeClassifier"
   ]
  },
  {
   "cell_type": "code",
   "execution_count": 42,
   "metadata": {},
   "outputs": [
    {
     "data": {
      "text/plain": [
       "DecisionTreeClassifier(class_weight=None, criterion='gini', max_depth=None,\n",
       "            max_features=None, max_leaf_nodes=None,\n",
       "            min_impurity_split=1e-07, min_samples_leaf=1,\n",
       "            min_samples_split=2, min_weight_fraction_leaf=0.0,\n",
       "            presort=False, random_state=None, splitter='best')"
      ]
     },
     "execution_count": 42,
     "metadata": {},
     "output_type": "execute_result"
    }
   ],
   "source": [
    "dtree = DecisionTreeClassifier()\n",
    "dtree.fit(X_train,y_train)"
   ]
  },
  {
   "cell_type": "code",
   "execution_count": 43,
   "metadata": {},
   "outputs": [
    {
     "name": "stdout",
     "output_type": "stream",
     "text": [
      "[[10286   709]\n",
      " [  662   699]]\n"
     ]
    }
   ],
   "source": [
    "predictions_tree = dtree.predict(X_test)\n",
    "print(confusion_matrix(y_test,predictions_tree))"
   ]
  },
  {
   "cell_type": "code",
   "execution_count": 44,
   "metadata": {},
   "outputs": [
    {
     "data": {
      "text/plain": [
       "0.8890417610877307"
      ]
     },
     "execution_count": 44,
     "metadata": {},
     "output_type": "execute_result"
    }
   ],
   "source": [
    "accuracy=accuracy_score(y_test,predictions_tree)\n",
    "accuracy"
   ]
  },
  {
   "cell_type": "markdown",
   "metadata": {},
   "source": [
    "# Random forest"
   ]
  },
  {
   "cell_type": "code",
   "execution_count": 45,
   "metadata": {},
   "outputs": [
    {
     "name": "stderr",
     "output_type": "stream",
     "text": [
      "C:\\Users\\Ramesh\\Anaconda3_1\\lib\\site-packages\\sklearn\\ensemble\\weight_boosting.py:29: DeprecationWarning: numpy.core.umath_tests is an internal NumPy module and should not be imported. It will be removed in a future NumPy release.\n",
      "  from numpy.core.umath_tests import inner1d\n"
     ]
    }
   ],
   "source": [
    "from sklearn.ensemble import RandomForestClassifier"
   ]
  },
  {
   "cell_type": "code",
   "execution_count": 46,
   "metadata": {
    "collapsed": true
   },
   "outputs": [],
   "source": [
    "rfc = RandomForestClassifier(n_estimators=500)\n",
    "rfc_model=rfc.fit(X_train, y_train)"
   ]
  },
  {
   "cell_type": "code",
   "execution_count": 47,
   "metadata": {},
   "outputs": [
    {
     "name": "stdout",
     "output_type": "stream",
     "text": [
      "[[10609   386]\n",
      " [  633   728]]\n"
     ]
    }
   ],
   "source": [
    "rfc_pred = rfc.predict(X_test)\n",
    "print(confusion_matrix(y_test,rfc_pred))"
   ]
  },
  {
   "cell_type": "code",
   "execution_count": 48,
   "metadata": {},
   "outputs": [
    {
     "data": {
      "text/plain": [
       "0.9175299449660084"
      ]
     },
     "execution_count": 48,
     "metadata": {},
     "output_type": "execute_result"
    }
   ],
   "source": [
    "accuracy=accuracy_score(y_test,rfc_pred)\n",
    "accuracy"
   ]
  },
  {
   "cell_type": "code",
   "execution_count": 49,
   "metadata": {},
   "outputs": [
    {
     "name": "stdout",
     "output_type": "stream",
     "text": [
      "[[10609   386]\n",
      " [  633   728]]\n",
      "             precision    recall  f1-score   support\n",
      "\n",
      "          0       0.94      0.96      0.95     10995\n",
      "          1       0.65      0.53      0.59      1361\n",
      "\n",
      "avg / total       0.91      0.92      0.91     12356\n",
      "\n"
     ]
    }
   ],
   "source": [
    "print(confusion_matrix(y_test,rfc_pred))\n",
    "print(classification_report(y_test,rfc_pred))"
   ]
  },
  {
   "cell_type": "code",
   "execution_count": null,
   "metadata": {
    "collapsed": true
   },
   "outputs": [],
   "source": []
  },
  {
   "cell_type": "code",
   "execution_count": null,
   "metadata": {
    "collapsed": true
   },
   "outputs": [],
   "source": []
  }
 ],
 "metadata": {
  "kernelspec": {
   "display_name": "Python 3",
   "language": "python",
   "name": "python3"
  },
  "language_info": {
   "codemirror_mode": {
    "name": "ipython",
    "version": 3
   },
   "file_extension": ".py",
   "mimetype": "text/x-python",
   "name": "python",
   "nbconvert_exporter": "python",
   "pygments_lexer": "ipython3",
   "version": "3.6.1"
  }
 },
 "nbformat": 4,
 "nbformat_minor": 2
}
